{
 "cells": [
  {
   "cell_type": "markdown",
   "metadata": {},
   "source": [
    "## Reinforcement Learning"
   ]
  },
  {
   "attachments": {
    "image.png": {
     "image/png": "[encoded data removed]"
    }
   },
   "cell_type": "markdown",
   "metadata": {},
   "source": [
    "### Model-based reinforcement learning\n",
    "\n",
    "- Leer transitiefunctie $T(s, a, s')$ van de omgeving\n",
    "- Ontdek reward functie $R(s, a, s')$ wanneer we (state-actie-state) tupels ervaren\n",
    "\n",
    "![image.png](attachment:image.png)"
   ]
  },
  {
   "cell_type": "code",
   "execution_count": 15,
   "metadata": {},
   "outputs": [
    {
     "data": {
      "text/plain": [
       "({'A': 0.24999987500018747,\n",
       "  'B': 2.499996250005625e-07,\n",
       "  'C': 2.499996250005625e-07,\n",
       "  'D': 0.7499991250013125,\n",
       "  'E': 2.499996250005625e-07,\n",
       "  'x': 2.499996250005625e-07},\n",
       " {'A': -1, 'B': -inf, 'C': -inf, 'D': -1, 'E': -inf, 'x': -inf})"
      ]
     },
     "execution_count": 15,
     "metadata": {},
     "output_type": "execute_result"
    }
   ],
   "source": [
    "dataset = [\n",
    "    # episode 1\n",
    "    ['B', 'east', 'C', -1],\n",
    "    ['C', 'east', 'D', -1],\n",
    "    ['D', 'exit', 'x', 10],\n",
    "    # episode 2\n",
    "    ['B', 'east', 'C', -1],\n",
    "    ['C', 'east', 'D', -1],\n",
    "    ['D', 'exit', 'x', 10],\n",
    "    # episode 3\n",
    "    ['E', 'north','C', -1],\n",
    "    ['C', 'east', 'D', -1],\n",
    "    ['D', 'exit', 'x', 10],\n",
    "    # episode 4\n",
    "    ['E', 'north','C', -1],\n",
    "    ['C', 'east', 'A', -1],\n",
    "    ['A', 'exit', 'x', -10],\n",
    "]\n",
    "\n",
    "states = ['A', 'B', 'C', 'D', 'E', 'x']\n",
    "actions = ['east', 'west', 'south', 'north', 'exit']\n",
    "\n",
    "# 3-dimensionale dictionary (zeer inefficient)\n",
    "T = {s : {a : {sn : 1e-6 for sn in states} for a in actions} for s in states}\n",
    "R = {s : {a : {sn : float('-inf') for sn in states} for a in actions} for s in states}\n",
    "\n",
    "# evaluate each state-action-state triplet \n",
    "for s, a, sn, r in dataset:\n",
    "    R[s][a][sn] = r\n",
    "    T[s][a][sn] += 1\n",
    "\n",
    "# normalize transitions to sum to 1 for each (s, a)\n",
    "for s in states:\n",
    "    for a in actions:\n",
    "        summed_rewards = sum(T[s][a].values())\n",
    "        T[s][a] = {key: val / summed_rewards for key, val in T[s][a].items()}\n",
    "\n",
    "T['C']['east'], R['C']['east']"
   ]
  },
  {
   "attachments": {
    "image.png": {
     "image/png": "[encoded data removed]"
    }
   },
   "cell_type": "markdown",
   "metadata": {},
   "source": [
    "### Model-free reinforcement learning\n",
    "\n",
    "- Leer een directe representatie van waarde van states/actions\n",
    "- **Temporal difference learning**:\n",
    "  - Leer de waarderingsfunctie $V(s)$ (in het boek $U(s)$): hoe goed is het voor de agent om in state $s$ te zijn?\n",
    "  - Leer de kwaliteitsfunctie $Q(s, a)$: hoe goed is het voor de agent om in state $s$ actie $a$ uit te voeren?\n",
    "\n",
    "#### Waarderingsfunctie $V(s)$\n",
    "\n",
    "- *Temporal difference* omdat we kijken naar het verschil tussen \n",
    "  - de huidige waarde van een state, $V(s)$ \n",
    "  - en de discounted waarde van de volgende state plus reward, $\\gamma V(s') + R(s, a, s')$\n",
    "  - waarbij $\\gamma$ de discount factor voorstelt\n",
    "- Update de huidige waarde $V(s)$ met dit (temporaal) verschil gewogen door een learning rate $\\alpha$\n",
    "- Dus $V(s) \\leftarrow V(s) + \\alpha [\\gamma V(s') + R(s, a, s') - V(s)]$ \n",
    "- Dit kunnen we ook opschrijven als:\n",
    "$$\n",
    "    V(s) \\leftarrow \\underbrace{(1-\\alpha)V(s)}_{\\text{aandeel oud}} + \\underbrace{\\alpha (R(s, a, s') + \\gamma V(s'))}_{\\text{aandeel nieuw}}\n",
    "$$\n",
    "\n",
    "![image.png](attachment:image.png)"
   ]
  },
  {
   "cell_type": "code",
   "execution_count": 10,
   "metadata": {},
   "outputs": [
    {
     "data": {
      "text/plain": [
       "{'A': 5.0, 'B': -1.0, 'C': 1.5625, 'D': 8.75, 'E': 1.75, 'x': 0}"
      ]
     },
     "execution_count": 10,
     "metadata": {},
     "output_type": "execute_result"
    }
   ],
   "source": [
    "dataset = [\n",
    "    # episode 1\n",
    "    ['B', 'east', 'C', -1],\n",
    "    ['C', 'east', 'D', -1],\n",
    "    ['D', 'exit', 'x', 10],\n",
    "    # episode 2\n",
    "    ['B', 'east', 'C', -1],\n",
    "    ['C', 'east', 'D', -1],\n",
    "    ['D', 'exit', 'x', 10],\n",
    "    # episode 3\n",
    "    ['E', 'north','C', -1],\n",
    "    ['C', 'east', 'D', -1],\n",
    "    ['D', 'exit', 'x', 10],\n",
    "    # episode 4\n",
    "    ['E', 'north','C', -1],\n",
    "    ['C', 'east', 'A', -1],\n",
    "    ['A', 'exit', 'x', 10],\n",
    "]\n",
    "\n",
    "V = {s: 0 for s in states}\n",
    "\n",
    "alpha = 0.5 # learning rate\n",
    "gamma = 1   # discount\n",
    "\n",
    "for s, a, sn, r in dataset:\n",
    "    # V[s] = (1-alpha) * V[s] + alpha * (r + gamma * V[sn])\n",
    "    V[s] += alpha * (r + gamma * V[sn] - V[s])\n",
    "\n",
    "V"
   ]
  },
  {
   "cell_type": "markdown",
   "metadata": {},
   "source": [
    "- Welke actie gekozen wordt is nu impliciet (passive learning agent).\n",
    "- In plaats van $V(s)$ kunnen we het alternatief $Q(s, a)$ gebruiken (active learning agent), waarmee we ook acties $a$ kunnen selecteren. "
   ]
  },
  {
   "cell_type": "markdown",
   "metadata": {},
   "source": [
    "#### Kwaliteitsfunctie $Q(s, a)$\n",
    "\n",
    "- $V(s)$ zegt hoe goed het is voor de agent om in state $s$ te zijn\n",
    "- $Q(s, a)$ zegt hoe goed het is om in state $s$ actie $a$ uit te voeren\n",
    "- De relatie tussen $V(s)$ en $Q(s, a)$ is:\n",
    "$$\n",
    "    V(s) = \\max_a Q(s, a)\n",
    "$$\n",
    "- Triviaal: vervang $V(s)$ in de update rule om de Q-learning update rule te krijgen:\n",
    "\\begin{align*}\n",
    "    Q(s, a) &\\leftarrow Q(s, a) + \\alpha [\\gamma \\max_{a'} Q(s', a') + R(s, a, s') - Q(s, a)]\\\\\n",
    "    Q(s, a) &\\leftarrow \\underbrace{(1-\\alpha)Q(s, a)}_{\\text{aandeel oud}} + \\underbrace{\\alpha (R(s, a, s') + \\gamma \\max_{a'} Q(s', a'))}_{\\text{aandeel nieuw}}\n",
    "\\end{align*} "
   ]
  },
  {
   "cell_type": "code",
   "execution_count": 11,
   "metadata": {},
   "outputs": [
    {
     "data": {
      "text/plain": [
       "{'A': {'east': 0, 'west': 0, 'south': 0, 'north': 0, 'exit': 5.0},\n",
       " 'B': {'east': -0.75, 'west': 0, 'south': 0, 'north': 0, 'exit': 0},\n",
       " 'C': {'east': 1.5625, 'west': 0, 'south': 0, 'north': 0, 'exit': 0},\n",
       " 'D': {'east': 0, 'west': 0, 'south': 0, 'north': 0, 'exit': 8.75},\n",
       " 'E': {'east': 0, 'west': 0, 'south': 0, 'north': 1.75, 'exit': 0},\n",
       " 'x': {'east': 0, 'west': 0, 'south': 0, 'north': 0, 'exit': 0}}"
      ]
     },
     "execution_count": 11,
     "metadata": {},
     "output_type": "execute_result"
    }
   ],
   "source": [
    "dataset = [\n",
    "    # episode 1\n",
    "    ['B', 'east', 'C', -1],\n",
    "    ['C', 'east', 'D', -1],\n",
    "    ['D', 'exit', 'x', 10],\n",
    "    # episode 2\n",
    "    ['B', 'east', 'C', -1],\n",
    "    ['C', 'east', 'D', -1],\n",
    "    ['D', 'exit', 'x', 10],\n",
    "    # episode 3\n",
    "    ['E', 'north','C', -1],\n",
    "    ['C', 'east', 'D', -1],\n",
    "    ['D', 'exit', 'x', 10],\n",
    "    # episode 4\n",
    "    ['E', 'north','C', -1],\n",
    "    ['C', 'east', 'A', -1],\n",
    "    ['A', 'exit', 'x', 10],\n",
    "]\n",
    "\n",
    "states = ['A', 'B', 'C', 'D', 'E', 'x']\n",
    "actions = ['east', 'west', 'south', 'north', 'exit']\n",
    "\n",
    "Q = {s : {a : 0 for a in actions} for s in states}\n",
    "alpha = 0.5\n",
    "gamma = 1\n",
    "\n",
    "for s, a, sn, r in dataset:\n",
    "    max_Q_sn = max(Q[sn].values())\n",
    "    Q[s][a] = (1-alpha) * Q[s][a] + alpha * (r + gamma * max_Q_sn)\n",
    "\n",
    "Q"
   ]
  },
  {
   "cell_type": "code",
   "execution_count": 13,
   "metadata": {},
   "outputs": [
    {
     "data": {
      "text/plain": [
       "('east', 1.5625)"
      ]
     },
     "execution_count": 13,
     "metadata": {},
     "output_type": "execute_result"
    }
   ],
   "source": [
    "max(Q['C'].items(), key=lambda x: x[1])"
   ]
  },
  {
   "cell_type": "markdown",
   "metadata": {},
   "source": [
    "##### Numpy als dictionary"
   ]
  },
  {
   "cell_type": "code",
   "execution_count": 19,
   "metadata": {},
   "outputs": [
    {
     "data": {
      "text/plain": [
       "(array([[ 1,  0,  2, -1],\n",
       "        [ 2,  0,  3, -1],\n",
       "        [ 3,  4,  5, 10],\n",
       "        [ 1,  0,  2, -1],\n",
       "        [ 2,  0,  3, -1],\n",
       "        [ 3,  4,  5, 10],\n",
       "        [ 4,  3,  2, -1],\n",
       "        [ 2,  0,  3, -1],\n",
       "        [ 3,  4,  5, 10],\n",
       "        [ 4,  3,  2, -1],\n",
       "        [ 2,  0,  0, -1],\n",
       "        [ 0,  4,  5, 10]]),\n",
       " array([[0., 0., 0., 0., 0.],\n",
       "        [0., 0., 0., 0., 0.],\n",
       "        [0., 0., 0., 0., 0.],\n",
       "        [0., 0., 0., 0., 0.],\n",
       "        [0., 0., 0., 0., 0.],\n",
       "        [0., 0., 0., 0., 0.]]))"
      ]
     },
     "execution_count": 19,
     "metadata": {},
     "output_type": "execute_result"
    }
   ],
   "source": [
    "import numpy as np\n",
    "\n",
    "stoi = {s:i for i, s in enumerate(states)}  # state to int\n",
    "atoi = {a:i for i, a in enumerate(actions)} # action to int\n",
    "\n",
    "num_dataset = [[stoi[s], atoi[a], stoi[sn], r] for s, a, sn, r in dataset]\n",
    "num_dataset = np.array(num_dataset)\n",
    "\n",
    "Q_num = np.zeros((len(states), len(actions)))\n",
    "\n",
    "num_dataset, Q_num"
   ]
  },
  {
   "cell_type": "code",
   "execution_count": 21,
   "metadata": {},
   "outputs": [
    {
     "data": {
      "text/plain": [
       "array([[ 0.    ,  0.    ,  0.    ,  0.    ,  5.    ],\n",
       "       [-0.75  ,  0.    ,  0.    ,  0.    ,  0.    ],\n",
       "       [ 1.5625,  0.    ,  0.    ,  0.    ,  0.    ],\n",
       "       [ 0.    ,  0.    ,  0.    ,  0.    ,  8.75  ],\n",
       "       [ 0.    ,  0.    ,  0.    ,  1.75  ,  0.    ],\n",
       "       [ 0.    ,  0.    ,  0.    ,  0.    ,  0.    ]])"
      ]
     },
     "execution_count": 21,
     "metadata": {},
     "output_type": "execute_result"
    }
   ],
   "source": [
    "for s, a, sn, r in num_dataset:\n",
    "    Q_num[s, a] = (1-alpha) * Q_num[s, a] + alpha * (r + gamma * Q_num[sn].max())\n",
    "\n",
    "Q_num"
   ]
  },
  {
   "cell_type": "code",
   "execution_count": 25,
   "metadata": {},
   "outputs": [
    {
     "data": {
      "text/plain": [
       "1.5625"
      ]
     },
     "execution_count": 25,
     "metadata": {},
     "output_type": "execute_result"
    }
   ],
   "source": [
    "Q_num[stoi['C'], atoi['east']]"
   ]
  },
  {
   "cell_type": "code",
   "execution_count": 26,
   "metadata": {},
   "outputs": [
    {
     "data": {
      "text/plain": [
       "'east'"
      ]
     },
     "execution_count": 26,
     "metadata": {},
     "output_type": "execute_result"
    }
   ],
   "source": [
    "# kiezen van beste volgende actie\n",
    "best_idx = Q_num[stoi['C']].argmax()\n",
    "actions[best_idx]"
   ]
  },
  {
   "cell_type": "markdown",
   "metadata": {},
   "source": [
    "## Exploration vs Exploitation\n",
    "\n",
    "- Hoe komen we aan de dataset van $(s, a, s', r)$ tupels?\n",
    "- enerzijds at random verkennen van de omgeving (exploration)\n",
    "- anderzijds beste actie kiezen (exploitation)\n",
    "- We kunnen $\\epsilon$-greedy search gebruiken, waarbij\n",
    "    - we uniform een random actie kiezen met kans $\\epsilon$\n",
    "    - we de beste actie kiezen met kans $1-\\epsilon$\n",
    "- Belangrijke afweging: welke waarde kies je voor $\\epsilon$ (hyperparameter)?"
   ]
  }
 ],
 "metadata": {
  "kernelspec": {
   "display_name": "workspace_jan",
   "language": "python",
   "name": "python3"
  },
  "language_info": {
   "codemirror_mode": {
    "name": "ipython",
    "version": 3
   },
   "file_extension": ".py",
   "mimetype": "text/x-python",
   "name": "python",
   "nbconvert_exporter": "python",
   "pygments_lexer": "ipython3",
   "version": "3.11.6"
  }
 },
 "nbformat": 4,
 "nbformat_minor": 2
}
